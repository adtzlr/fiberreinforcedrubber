{
 "cells": [
  {
   "cell_type": "markdown",
   "id": "d19095e4-c7e3-4718-b67a-8649e9552747",
   "metadata": {},
   "source": [
    "# Example 1: Specimen (Amplitudes)\n",
    "This notebook runs on Google Colab."
   ]
  },
  {
   "cell_type": "code",
   "execution_count": null,
   "id": "62b7f093-e860-4145-a229-9c14bd8c79a2",
   "metadata": {},
   "outputs": [],
   "source": [
    "!apt-get install -qq xvfb\n",
    "!git clone https://github.com/adtzlr/fiberreinforcedrubber.git -qq\n",
    "!pip install ./fiberreinforcedrubber -qq"
   ]
  },
  {
   "cell_type": "code",
   "execution_count": null,
   "id": "4870681d-636e-4d6f-9057-3a1bd066274c",
   "metadata": {},
   "outputs": [],
   "source": [
    "import felupe as fem\n",
    "import matplotlib.pyplot as plt\n",
    "import numpy as np\n",
    "import termtables as tt\n",
    "from pypardiso import spsolve\n",
    "\n",
    "import fiberreinforcedrubber as frr"
   ]
  },
  {
   "cell_type": "markdown",
   "id": "5275d34c-35d6-47b4-b0c2-d72e8f049e7c",
   "metadata": {},
   "source": [
    "Geometry parameters"
   ]
  },
  {
   "cell_type": "code",
   "execution_count": null,
   "id": "79e17573-1532-4c36-a956-0965a754f832",
   "metadata": {},
   "outputs": [],
   "source": [
    "H = 80  # mm\n",
    "W = 60  # mm\n",
    "thickness = 5  # mm\n",
    "middle = 5  # mm\n",
    "angle = 54.7546 * 2  # mm\n",
    "radius = 42.3  # mm"
   ]
  },
  {
   "cell_type": "markdown",
   "id": "346412a9-134e-4d01-8961-d8fea61ef241",
   "metadata": {},
   "source": [
    "Material properties of the two fiber families"
   ]
  },
  {
   "cell_type": "code",
   "execution_count": null,
   "id": "ea61dc3e-dd6c-409a-8776-bc27f56cb4d4",
   "metadata": {},
   "outputs": [],
   "source": [
    "fiber_angle = 19  # deg\n",
    "fiber_axis = 1  # axis from which the fiber-angle is measured\n",
    "fiber_area = 0.08  # mm^2\n",
    "fiber_modulus = 5500  # N/mm^2\n",
    "fiber_distance = 1 / 0.95  # mm\n",
    "strain_exponent = 1"
   ]
  },
  {
   "cell_type": "markdown",
   "id": "7155bc9d-98b0-42fb-b544-d8a88c29ed69",
   "metadata": {},
   "source": [
    "Rubber material properties"
   ]
  },
  {
   "cell_type": "code",
   "execution_count": null,
   "id": "c5d6b426-b05f-4274-9ff1-3f59f6b5d6d7",
   "metadata": {},
   "outputs": [],
   "source": [
    "C10 = 0.5  # N/mm^2 (half shear modulus)"
   ]
  },
  {
   "cell_type": "markdown",
   "id": "24b17aa2-f6b9-4296-8119-f108e69ae721",
   "metadata": {},
   "source": [
    "Deformation parameters"
   ]
  },
  {
   "cell_type": "code",
   "execution_count": null,
   "id": "77864e61-a189-46a2-a687-6de85a71307a",
   "metadata": {},
   "outputs": [],
   "source": [
    "lateral_max = 23\n",
    "tension_max = 8"
   ]
  },
  {
   "cell_type": "markdown",
   "id": "64fda3ea-a20b-4b01-b749-753000d8b3ef",
   "metadata": {},
   "source": [
    "Plot options"
   ]
  },
  {
   "cell_type": "code",
   "execution_count": null,
   "id": "020d740d-084f-4464-8456-9f0b6db527c6",
   "metadata": {},
   "outputs": [],
   "source": [
    "line_segments = 501  # number of lines per cord"
   ]
  },
  {
   "cell_type": "markdown",
   "id": "63ad2d0e-bd0d-4478-8e62-107c0a4b9daf",
   "metadata": {},
   "source": [
    "Generate the meshes"
   ]
  },
  {
   "cell_type": "code",
   "execution_count": null,
   "id": "5c01ccc6-edbf-4597-95bd-5e0b36fc4bf1",
   "metadata": {},
   "outputs": [],
   "source": [
    "mesh, fibers_1, fibers_2, mask_points_1, mask_points_2 = frr.create_test_specimen(\n",
    "    width=W,\n",
    "    height=H,\n",
    "    radius=radius,\n",
    "    angle=angle,\n",
    "    fiber_angle=fiber_angle,\n",
    "    fiber_axis=fiber_axis,\n",
    "    fiber_distance=fiber_distance,\n",
    "    n=line_segments,\n",
    "    middle=middle,\n",
    ")"
   ]
  },
  {
   "cell_type": "markdown",
   "id": "1f2ba62e-c933-48a1-ab70-e4ba3561c32b",
   "metadata": {},
   "source": [
    "View the rubber mesh"
   ]
  },
  {
   "cell_type": "code",
   "execution_count": null,
   "id": "e1c6e82e-b589-4507-bbbd-811938da4c0b",
   "metadata": {},
   "outputs": [],
   "source": [
    "view = fem.ViewMesh(mesh)\n",
    "plotter = view.plot(\n",
    "    notebook=True,\n",
    "    theme=\"document\",\n",
    "    add_axes=False,\n",
    "    edge_color=\"black\",\n",
    "    color=\"lightgrey\",\n",
    "    line_width=4,\n",
    ")\n",
    "plotter.camera.tight()\n",
    "# plotter.add_axes(label_size=(0.06, 0.06), viewport=(-0.1, -0.1, 0.2, 0.2))\n",
    "# plotter.camera.zoom(0.8)\n",
    "plotter.show(\"test_specimen_mesh_rubber.png\", scale=2, jupyter_backend=\"static)"
   ]
  }
 ],
 "metadata": {
  "kernelspec": {
   "display_name": "Python 3 (ipykernel)",
   "language": "python",
   "name": "python3"
  },
  "language_info": {
   "codemirror_mode": {
    "name": "ipython",
    "version": 3
   },
   "file_extension": ".py",
   "mimetype": "text/x-python",
   "name": "python",
   "nbconvert_exporter": "python",
   "pygments_lexer": "ipython3",
   "version": "3.10.8"
  }
 },
 "nbformat": 4,
 "nbformat_minor": 5
}
